{
 "cells": [
  {
   "cell_type": "markdown",
   "id": "c6cdcc7c-4822-455d-9fff-99f1ff10ae6f",
   "metadata": {},
   "source": [
    "# Question3\n",
    "In a jupyter notebook solve the following question using python. Please upload the notebook to GitHub and provide the link submission box below.\n",
    "\n",
    "Develop a recursive function tough() that takes two nonnegative integer arguments and outputs a pattern as shown below. Hint: The first argument represents the indentation of the pattern, where the second argument -- always a pattern of 2 indicates the number *s in the longest line of *s in the pattern"
   ]
  },
  {
   "cell_type": "code",
   "execution_count": 16,
   "id": "9a949c8d-74f8-4733-903c-ce49c747eb77",
   "metadata": {},
   "outputs": [
    {
     "name": "stdout",
     "output_type": "stream",
     "text": [
      "f(0, 0)\n",
      "\n",
      "\n",
      "f(0, 1)\n",
      "*\n",
      "\n",
      "\n",
      "f(0, 2)\n",
      "*\n",
      "**\n",
      " *\n",
      "\n",
      "\n",
      "f(0, 4)\n",
      "*\n",
      "**\n",
      " *\n",
      "****\n",
      " *\n",
      " **\n",
      "  *\n",
      "\n",
      "\n"
     ]
    }
   ],
   "source": [
    "def tough(indent, num):\n",
    "    # Base case: if num is greater than 0, we continue\n",
    "    if num > 0:\n",
    "        # Recursive call to print the top part of the pattern (half the number of stars)\n",
    "        tough(indent, num // 2)\n",
    "        \n",
    "        # Print the current row with 'num' stars, preceded by 'indent' spaces\n",
    "        print(\" \" * indent + \"*\" * num)\n",
    "        \n",
    "        # Recursive call to print the bottom part of the pattern (half the number of stars),\n",
    "        # with increased indentation to shift the next pattern to the right\n",
    "        tough(indent + 1, num // 2)\n",
    "\n",
    "\n",
    "\n",
    "# Test cases\n",
    "print(\"f(0, 0)\")\n",
    "tough(0, 0)\n",
    "print(\"\\n\")\n",
    "\n",
    "print(\"f(0, 1)\")\n",
    "tough(0, 1)\n",
    "print(\"\\n\")\n",
    "\n",
    "print(\"f(0, 2)\")\n",
    "tough(0, 2)\n",
    "print(\"\\n\")\n",
    "\n",
    "print(\"f(0, 4)\")\n",
    "tough(0, 4)\n",
    "print(\"\\n\")\n"
   ]
  }
 ],
 "metadata": {
  "kernelspec": {
   "display_name": "Python 3 (ipykernel)",
   "language": "python",
   "name": "python3"
  },
  "language_info": {
   "codemirror_mode": {
    "name": "ipython",
    "version": 3
   },
   "file_extension": ".py",
   "mimetype": "text/x-python",
   "name": "python",
   "nbconvert_exporter": "python",
   "pygments_lexer": "ipython3",
   "version": "3.12.7"
  }
 },
 "nbformat": 4,
 "nbformat_minor": 5
}
